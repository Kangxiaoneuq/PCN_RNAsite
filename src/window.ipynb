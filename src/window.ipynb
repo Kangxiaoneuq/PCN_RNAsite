{
 "cells": [
  {
   "cell_type": "code",
   "execution_count": 2,
   "id": "383b1c8a-bc5e-4534-ba32-2ed2ec515876",
   "metadata": {
    "tags": []
   },
   "outputs": [],
   "source": [
    "import pandas as pd\n",
    "import numpy as np\n",
    "ori = pd.read_csv(r'CS71.csv')\n",
    "xl = ori.iloc[:142,0]\n",
    "DATA = ori.iloc[:,1:-1]\n",
    "label = ori.iloc[:,-1]\n",
    "\n",
    "xln=[]#每个序列的长度\n",
    "for i in range(len(xl)):\n",
    "    if i%2!=0:\n",
    "        c=xl.iloc[i]\n",
    "        xln.append(len(c))\n",
    "        \n",
    "xln_sum = []\n",
    "for i in range(len(xln)):\n",
    "    if i == 0:\n",
    "        xln_sum.append(xln[i])\n",
    "    else:\n",
    "        xln_sum.append(sum(xln[:i+1]))\n",
    "xln_sum.insert(0,0)\n",
    "\n",
    "\n",
    "def yilie(array):\n",
    "    a = []\n",
    "    for i in range(len(array)):\n",
    "        for j in range(len(array[0])):\n",
    "            a.append(array[i][j])\n",
    "    return a\n",
    "\n",
    "def window(data,w):\n",
    "    data_up = data\n",
    "    for i in range(1,11):########增加2-21列到最前面（21-1=20列）\n",
    "        data_up = np.row_stack((data[i],data_up))\n",
    "    \n",
    "    data_down = data_up\n",
    "    for i in range(len(data)-2,len(data)-12,-1):####二号位和三号位的差是添加个数\n",
    "         data_down = np.row_stack((data_down,data[i]))\n",
    "\n",
    "    win = []\n",
    "    for i in range(len(data)):###如果20不够，这里也要改得更大\n",
    "        win.append(yilie(data_down[10+i-w:11+i+w,:]))\n",
    "        \n",
    "    return pd.DataFrame(win)\n",
    "\n",
    "\n",
    "def stack(ww):\n",
    "    ###########建立一个需要得到大小的空dataframe\n",
    "    empty = pd.DataFrame(data=None,columns=range((2*ww+1)*len(DATA.iloc[0])),index=range(len(DATA)))\n",
    "    for i in range(len(xln)):\n",
    "        df = np.array(DATA.iloc[xln_sum[i]:xln_sum[i+1],:])\n",
    "        empty.iloc[xln_sum[i]:xln_sum[i+1],:] = window(df,ww)\n",
    "    return empty\n",
    "\n",
    "df = pd.concat([stack(1), label],axis = 1)######stack()括号里对应下面csv里的数，表示滑窗数\n",
    "df.to_csv(\"CS71_1.csv\", index=False )"
   ]
  },
  {
   "cell_type": "code",
   "execution_count": 8,
   "id": "3f493f7d-65e8-4ff9-a19b-0e0ded3c4e53",
   "metadata": {
    "tags": []
   },
   "outputs": [],
   "source": []
  },
  {
   "cell_type": "code",
   "execution_count": null,
   "id": "1897a9af-7ef8-40e1-ad61-1e8670ee89cb",
   "metadata": {},
   "outputs": [],
   "source": []
  }
 ],
 "metadata": {
  "kernelspec": {
   "display_name": "Python 3",
   "language": "python",
   "name": "python3"
  },
  "language_info": {
   "codemirror_mode": {
    "name": "ipython",
    "version": 3
   },
   "file_extension": ".py",
   "mimetype": "text/x-python",
   "name": "python",
   "nbconvert_exporter": "python",
   "pygments_lexer": "ipython3",
   "version": "3.8.8"
  }
 },
 "nbformat": 4,
 "nbformat_minor": 5
}
